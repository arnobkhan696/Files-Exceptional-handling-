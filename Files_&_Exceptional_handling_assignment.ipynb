{
  "nbformat": 4,
  "nbformat_minor": 0,
  "metadata": {
    "colab": {
      "provenance": []
    },
    "kernelspec": {
      "name": "python3",
      "display_name": "Python 3"
    },
    "language_info": {
      "name": "python"
    }
  },
  "cells": [
    {
      "cell_type": "markdown",
      "source": [
        "#Files & Exceptional handling assignment"
      ],
      "metadata": {
        "id": "I8EE8HSOIR0o"
      }
    },
    {
      "cell_type": "markdown",
      "source": [
        "Theoretical Question:\n",
        "\n",
        "1. What is the difference between interpreted and compiled languages?\n",
        "  - interpreted languages execute code line by line, while compiled languages translate the entire code into machine code before execution.\n",
        "2. What is exception handling in Python?\n",
        "  - In Python, exception handling is the process of managing errors that occur while a program is running.\n",
        "3. What is the purpose of the finally block in exception handling?\n",
        "  - The finally block in exception handling executes code that needs to run regardless of whether an exception occurs. This is useful for closing resources, such as files or database connections, and preventing resource leaks.\n",
        "4. What is logging in Python?\n",
        "  - In Python, logging is a built-in module that allows developers to track events, debug issues, and monitor the health of their applications by systematically recording events, such as errors, warnings, and informational messages, during program execution.\n",
        "5. What is the significance of the __del__ method in Python?\n",
        "  - In Python, the __del__ method, also known as a destructor or finalizer, is called when an object is about to be garbage collected, allowing for cleanup of resources before the object is destroyed.\n",
        "6. What is the difference between import and from ... import in Python?\n",
        "  - import imports an entire code library. from import imports a specific member or members of the library.\n",
        "7. How can you handle multiple exceptions in Python?\n",
        "  - In Python, exception handling is done using the try and except blocks. When a program encounters an error during execution, it raises an exception. To prevent the program from crashing, you can catch and handle these exceptions using structured exception handling.\n",
        "8. What is the purpose of the with statement when handling files in Python?\n",
        "  - ensures that a file is automatically closed after its operations are complete, even if errors occur, simplifying resource management and making code cleaner and more robust.\n",
        "9. What is the difference between multithreading and multiprocessing?\n",
        "  - Multithreading uses multiple threads within a single process, sharing memory and resources.\n",
        "   While multiprocessing uses multiple processes, each with its own memory space.\n",
        "10. What are the advantages of using logging in a program?\n",
        "   - Logging in programming offers several advantages, primarily aiding in debugging, performance analysis, and monitoring by providing a record of a program's activities, including errors, warnings, and events.\n",
        "11. What is memory management in Python?\n",
        "   - handled automatically by the interpreter using a private heap, reference counting, and a garbage collector.\n",
        "12. What are the basic steps involved in exception handling in Python?\n",
        "   - In Python, exception handling involves using try, except, else, and finally.\n",
        "13. Why is memory management important in Python?\n",
        "   - because it directly impacts program performance, resource usage, and stability, especially for large-scale applications, and is handled automatically by the Python interpreter, allowing developers to focus on code logic rather than memory allocation.\n",
        "14. What is the role of try and except in exception handling?\n",
        "   - In exception handling, the try block contains code that might raise an error, and the except block handles those errors (exceptions) gracefully, preventing the program from crashing and allowing it to continue execution.\n",
        "15. How does Python's garbage collection system work?\n",
        "   - Python's garbage collection system automatically manages memory by reclaiming memory occupied by objects that are no longer referenced, primarily using reference counting and a cyclic garbage collector to handle circular references.\n",
        "16. What is the purpose of the else block in exception handling?\n",
        "   - In exception handling, the else block is used to define a section of code that should be executed only if no exception occurs in the try block. It helps in organizing the code more clearly by separating the error-prone code (inside the try block) from the normal execution code (inside the else block).\n",
        "17. What are the common logging levels in Python?\n",
        "   - In Python, the logging module provides a flexible framework for emitting log messages from programs. Logging levels are used to indicate the severity or importance of the events being logged.\n",
        "18. What is the difference between os.fork() and multiprocessing in Python?\n",
        "   - Both os.fork() and the multiprocessing module are used to create new processes in Python, but they differ in terms of usage, portability, and abstraction.\n",
        "   1. os.fork()\n",
        "  - i) A low-level system call used to create a child process.\n",
        "\n",
        "  - ii) It creates a copy of the current process.\n",
        "\n",
        "  2. multiprocessing module\n",
        "  - i) A high-level module for creating and managing processes.\n",
        "\n",
        "  - ii) Provides an interface similar to the threading module.\n",
        "19. What is the importance of closing a file in Python?\n",
        "   - Closing files in Python is an essential practice that helps maintain data integrity, prevent resource leaks, and ensure the reliability of your applications.\n",
        "20. What is the difference between file.read() and file.readline() in Python?\n",
        "   - In Python, read() reads the entire file content as a single string, while readline() reads a single line from the file at a time, returning it as a string.\n",
        "21. What is the logging module in Python used for?\n",
        "   - The Python logging module is used to track events, debug issues, and monitor the health of Python applications by capturing and storing information about program execution.\n",
        "22. What is the os module in Python used for in file handling?\n",
        "   - Python has a built-in os module with methods for interacting with the operating system, like creating files and directories, management of files and directories, input, output, environment variables, process management, etc.\n",
        "23. What are the challenges associated with memory management in Python?\n",
        "   - Python's automatic memory management, while simplifying development, presents challenges like potential memory leaks due to circular references, performance overhead from garbage collection, and difficulty in optimizing memory usage for specific applications.\n",
        "24. How do you raise an exception manually in Python?\n",
        "   - To manually raise an exception in Python, you can use the raise keyword.\n",
        "25. Why is it important to use multithreading in certain applications?\n",
        "   - Multithreading is crucial for certain applications as it enables concurrent execution of tasks, leading to improved performance, resource utilization, and responsiveness.\n"
      ],
      "metadata": {
        "id": "09Db_A_4I49P"
      }
    },
    {
      "cell_type": "markdown",
      "source": [
        "#Practical Questions"
      ],
      "metadata": {
        "id": "arMZ--Lvapi4"
      }
    },
    {
      "cell_type": "code",
      "source": [
        "# 1. How can you open a file for writing in Python and write a string to it?\n",
        "with open(\"example.txt\", \"w\") as file:\n",
        "\n",
        "    file.write(\"Hello, world!\")"
      ],
      "metadata": {
        "id": "vnaf8w_La3WP"
      },
      "execution_count": null,
      "outputs": []
    },
    {
      "cell_type": "code",
      "source": [
        "# 2. Write a Python program to read the contents of a file and print each line.\n",
        "with open(\"example.txt\", \"r\") as file:\n",
        "\n",
        "    for line in file:\n",
        "\n",
        "        print(line.strip())"
      ],
      "metadata": {
        "colab": {
          "base_uri": "https://localhost:8080/"
        },
        "id": "oCCp3YEZgNsn",
        "outputId": "97b3b6b4-8605-4760-d09a-b218efe5d939"
      },
      "execution_count": null,
      "outputs": [
        {
          "output_type": "stream",
          "name": "stdout",
          "text": [
            "Hello, world!\n"
          ]
        }
      ]
    },
    {
      "cell_type": "code",
      "source": [
        "# 3. How would you handle a case where the file doesn't exist while trying to open it for reading?\n",
        "filename = \"example.txt\"\n",
        "\n",
        "try:\n",
        "    with open(filename, \"r\") as file:\n",
        "        for line in file:\n",
        "            print(line.strip())\n",
        "except FileNotFoundError:\n",
        "    print(f\"Error: The file '{filename}' was not found.\")"
      ],
      "metadata": {
        "id": "01NS9sfrhDKJ"
      },
      "execution_count": null,
      "outputs": []
    },
    {
      "cell_type": "code",
      "source": [
        "# 4. Write a Python script that reads from one file and writes its content to another file.\n",
        "source_file = \"source.txt\"\n",
        "destination_file = \"destination.txt\"\n",
        "\n",
        "try:\n",
        "    # Open the source file in read mode and destination file in write mode\n",
        "    with open(source_file, \"r\") as src, open(destination_file, \"w\") as dst:\n",
        "        # Read each line from the source and write it to the destination\n",
        "        for line in src:\n",
        "            dst.write(line)\n",
        "    print(f\"Contents copied from '{source_file}' to '{destination_file}' successfully.\")\n",
        "except FileNotFoundError:\n",
        "    print(f\"Error: The file '{source_file}' was not found.\")\n",
        "except Exception as e:\n",
        "    print(f\"An error occurred: {e}\")"
      ],
      "metadata": {
        "id": "qQd9eEJ4iABA"
      },
      "execution_count": null,
      "outputs": []
    },
    {
      "cell_type": "code",
      "source": [
        "# 5. How would you catch and handle division by zero error in Python?\n",
        "try:\n",
        "    numerator = 10\n",
        "    denominator = 0\n",
        "    result = numerator / denominator\n",
        "    print(\"Result:\", result)\n",
        "except ZeroDivisionError:\n",
        "    print(\"Error: Cannot divide by zero.\")"
      ],
      "metadata": {
        "colab": {
          "base_uri": "https://localhost:8080/"
        },
        "id": "CeG7JY5Okq2w",
        "outputId": "88467ca2-750a-41c0-8193-9dacb803879e"
      },
      "execution_count": null,
      "outputs": [
        {
          "output_type": "stream",
          "name": "stdout",
          "text": [
            "Error: Cannot divide by zero.\n"
          ]
        }
      ]
    },
    {
      "cell_type": "code",
      "source": [
        "# 6. Write a Python program that logs an error message to a log file when a division by zero exception occurs.\n",
        "import logging\n",
        "\n",
        "# Configure logging\n",
        "logging.basicConfig(filename='error.log', level=logging.ERROR,\n",
        "                    format='%(asctime)s - %(levelname)s - %(message)s')\n",
        "\n",
        "# Example division function\n",
        "def divide(a, b):\n",
        "    try:\n",
        "        result = a / b\n",
        "        print(\"Result:\", result)\n",
        "    except ZeroDivisionError:\n",
        "        logging.error(\"Attempted to divide by zero. a=%s, b=%s\", a, b)\n",
        "        print(\"Error: Cannot divide by zero.\")\n",
        "\n",
        "# Example usage\n",
        "divide(10, 0)"
      ],
      "metadata": {
        "colab": {
          "base_uri": "https://localhost:8080/"
        },
        "id": "pLUV2NvPlL3X",
        "outputId": "1a822a6b-b496-4732-a605-b8a54dc56b4c"
      },
      "execution_count": null,
      "outputs": [
        {
          "output_type": "stream",
          "name": "stderr",
          "text": [
            "ERROR:root:Attempted to divide by zero. a=10, b=0\n"
          ]
        },
        {
          "output_type": "stream",
          "name": "stdout",
          "text": [
            "Error: Cannot divide by zero.\n"
          ]
        }
      ]
    },
    {
      "cell_type": "code",
      "source": [
        "# 7. How do you log information at different levels (INFO, ERROR, WARNING) in Python using the logging module?\n",
        "import logging\n",
        "\n",
        "# Configure logging\n",
        "logging.basicConfig(\n",
        "    filename='app.log',\n",
        "    level=logging.DEBUG,\n",
        "    format='%(asctime)s - %(levelname)s - %(message)s'\n",
        ")\n",
        "\n",
        "# Log messages at different levels\n",
        "logging.info(\"This is an INFO message.\")\n",
        "logging.warning(\"This is a WARNING message.\")\n",
        "logging.error(\"This is an ERROR message.\")"
      ],
      "metadata": {
        "id": "VlJZNcKWmA0A"
      },
      "execution_count": null,
      "outputs": []
    },
    {
      "cell_type": "code",
      "source": [
        "# 8. Write a program to handle a file opening error using exception handling.\n",
        "filename = \"nonexistent_file.txt\"\n",
        "\n",
        "try:\n",
        "    # Try to open the file in read mode\n",
        "    with open(filename, \"r\") as file:\n",
        "        content = file.read()\n",
        "        print(\"File content:\\n\", content)\n",
        "except FileNotFoundError:\n",
        "    print(f\"Error: The file '{filename}' was not found.\")\n",
        "except PermissionError:\n",
        "    print(f\"Error: Permission denied when trying to open '{filename}'.\")\n",
        "except Exception as e:\n",
        "    print(f\"An unexpected error occurred: {e}\")"
      ],
      "metadata": {
        "id": "IIi7jyn3nj6w"
      },
      "execution_count": null,
      "outputs": []
    },
    {
      "cell_type": "code",
      "source": [
        "# 9. How can you read a file line by line and store its content in a list in Python?\n",
        "with open(\"example.txt\", \"r\") as file:\n",
        "    lines = file.readlines()\n",
        "\n",
        "# Optionally strip newline characters\n",
        "lines = [line.strip() for line in lines]\n",
        "\n",
        "print(lines)"
      ],
      "metadata": {
        "colab": {
          "base_uri": "https://localhost:8080/"
        },
        "id": "QC4EzorJoQXn",
        "outputId": "1780a920-56e4-480b-9d52-98e87404b3ed"
      },
      "execution_count": null,
      "outputs": [
        {
          "output_type": "stream",
          "name": "stdout",
          "text": [
            "['Hello, world!']\n"
          ]
        }
      ]
    },
    {
      "cell_type": "code",
      "source": [
        "# 10. How can you append data to an existing file in Python?\n",
        "with open(\"example.txt\", \"a\") as file:\n",
        "    file.write(\"This is a new line being appended.\\n\")"
      ],
      "metadata": {
        "id": "rLYDG5eWpOER"
      },
      "execution_count": null,
      "outputs": []
    },
    {
      "cell_type": "code",
      "source": [
        "# 11. Write a Python program that uses a try-except block to handle an error when attempting to access a dictionary key that doesn't exist.\n",
        "person = {\n",
        "    \"name\": \"Alice\",\n",
        "    \"age\": 30\n",
        "}\n",
        "\n",
        "try:\n",
        "\n",
        "    email = person[\"email\"]\n",
        "    print(\"Email:\", email)\n",
        "except KeyError:\n",
        "    print(\"Error: 'email' key not found in the dictionary.\")\n",
        "\n",
        "print(\"Program continues running smoothly.\")"
      ],
      "metadata": {
        "colab": {
          "base_uri": "https://localhost:8080/"
        },
        "id": "3dEVYT615NUs",
        "outputId": "5c06bdd0-1aec-490c-bff7-ade4d1309810"
      },
      "execution_count": 1,
      "outputs": [
        {
          "output_type": "stream",
          "name": "stdout",
          "text": [
            "Error: 'email' key not found in the dictionary.\n",
            "Program continues running smoothly.\n"
          ]
        }
      ]
    },
    {
      "cell_type": "code",
      "source": [
        "# 12. Write a program that demonstrates using multiple except blocks to handle different types of exceptions.\n",
        "def divide_numbers():\n",
        "    try:\n",
        "        num1 = int(input(\"Enter a number: \"))\n",
        "        num2 = int(input(\"Enter another number: \"))\n",
        "        result = num1 / num2\n",
        "        print(\"Result:\", result)\n",
        "\n",
        "    except ValueError:\n",
        "        print(\"Error: Please enter valid integers.\")\n",
        "\n",
        "    except ZeroDivisionError:\n",
        "        print(\"Error: Cannot divide by zero.\")\n",
        "\n",
        "    except Exception as e:\n",
        "        print(f\"An unexpected error occurred: {e}\")\n",
        "\n",
        "    finally:\n",
        "        print(\"This block always executes (finally block).\")\n",
        "\n",
        "# Call the function\n",
        "divide_numbers()"
      ],
      "metadata": {
        "colab": {
          "base_uri": "https://localhost:8080/"
        },
        "id": "8uMsV8q755_7",
        "outputId": "f623470a-4add-49b5-a986-d4e24a057a0b"
      },
      "execution_count": 2,
      "outputs": [
        {
          "output_type": "stream",
          "name": "stdout",
          "text": [
            "Enter a number: 10\n",
            "Enter another number: 5\n",
            "Result: 2.0\n",
            "This block always executes (finally block).\n"
          ]
        }
      ]
    },
    {
      "cell_type": "code",
      "source": [
        "# 13. How would you check if a file exists before attempting to read it in Python?\n",
        "import os\n",
        "\n",
        "file_path = \"example.txt\"\n",
        "\n",
        "if os.path.exists(file_path):\n",
        "    with open(file_path, 'r') as file:\n",
        "        content = file.read()\n",
        "        print(\"File contents:\\n\", content)\n",
        "else:\n",
        "    print(f\"Error: The file '{file_path}' does not exist.\")"
      ],
      "metadata": {
        "colab": {
          "base_uri": "https://localhost:8080/"
        },
        "id": "Pnwd8_GE62pb",
        "outputId": "0e64943b-370e-4855-d713-0d59085c28e3"
      },
      "execution_count": 3,
      "outputs": [
        {
          "output_type": "stream",
          "name": "stdout",
          "text": [
            "Error: The file 'example.txt' does not exist.\n"
          ]
        }
      ]
    },
    {
      "cell_type": "code",
      "source": [
        "# 14. Write a program that uses the logging module to log both informational and error messages.\n",
        "import logging\n",
        "\n",
        "# Configure logging\n",
        "logging.basicConfig(\n",
        "    level=logging.INFO,  # Set the minimum log level\n",
        "    format='%(asctime)s - %(levelname)s - %(message)s',\n",
        "    filename='app.log',  # Log output will be saved to this file\n",
        "    filemode='w'         # Overwrite the log file each run; use 'a' to append\n",
        ")\n",
        "\n",
        "def divide(a, b):\n",
        "    logging.info(f\"Attempting to divide {a} by {b}\")\n",
        "    try:\n",
        "        result = a / b\n",
        "        logging.info(f\"Division successful: {result}\")\n",
        "        return result\n",
        "    except ZeroDivisionError as e:\n",
        "        logging.error(f\"Error occurred: Cannot divide by zero. {e}\")\n",
        "    except Exception as e:\n",
        "        logging.error(f\"Unexpected error: {e}\")\n",
        "\n",
        "# Example usage\n",
        "divide(10, 2)\n",
        "divide(5, 0)\n",
        "divide(\"ten\", 2)\n",
        "\n",
        "print(\"Program completed. Check 'app.log' for logs.\")"
      ],
      "metadata": {
        "id": "hB-ezOiV_Ilc"
      },
      "execution_count": null,
      "outputs": []
    },
    {
      "cell_type": "code",
      "source": [
        "# 15. Write a Python program that prints the content of a file and handles the case when the file is empty.\n",
        "import os\n",
        "\n",
        "def print_file_contents(file_path):\n",
        "    # Check if the file exists\n",
        "    if not os.path.exists(file_path):\n",
        "        print(f\"Error: The file '{file_path}' does not exist.\")\n",
        "        return\n",
        "\n",
        "    try:\n",
        "        with open(file_path, 'r') as file:\n",
        "            content = file.read()\n",
        "            if content.strip() == \"\":\n",
        "                print(f\"The file '{file_path}' is empty.\")\n",
        "            else:\n",
        "                print(\"File contents:\\n\")\n",
        "                print(content)\n",
        "    except Exception as e:\n",
        "        print(f\"An error occurred while reading the file: {e}\")\n",
        "\n",
        "# Example usage\n",
        "file_path = \"example.txt\"  # Replace with your filename\n",
        "print_file_contents(file_path)"
      ],
      "metadata": {
        "id": "eYi2Mjef_y3z"
      },
      "execution_count": null,
      "outputs": []
    },
    {
      "cell_type": "code",
      "source": [
        "# 16. Demonstrate how to use memory profiling to check the memory usage of a small program.\n",
        "from memory_profiler import profile\n",
        "\n",
        "@profile\n",
        "def create_large_list():\n",
        "    # This list takes up memory\n",
        "    numbers = [i * 2 for i in range(1000000)]\n",
        "    return numbers\n",
        "\n",
        "if __name__ == \"__main__\":\n",
        "    create_large_list()"
      ],
      "metadata": {
        "id": "UN2ObwSJAJHD"
      },
      "execution_count": null,
      "outputs": []
    },
    {
      "cell_type": "code",
      "source": [
        "# 17. Write a Python program to create and write a list of numbers to a file, one number per line.\n",
        "def write_numbers_to_file(file_path, numbers):\n",
        "    try:\n",
        "        with open(file_path, 'w') as file:\n",
        "            for number in numbers:\n",
        "                file.write(f\"{number}\\n\")\n",
        "        print(f\"Successfully wrote {len(numbers)} numbers to '{file_path}'.\")\n",
        "    except Exception as e:\n",
        "        print(f\"An error occurred: {e}\")\n",
        "\n",
        "# Example usage\n",
        "numbers = list(range(1, 11))  # List of numbers from 1 to 10\n",
        "file_path = \"numbers.txt\"\n",
        "\n",
        "write_numbers_to_file(file_path, numbers)"
      ],
      "metadata": {
        "id": "Mm1_gMryEN_D"
      },
      "execution_count": null,
      "outputs": []
    },
    {
      "cell_type": "code",
      "source": [
        "# 18. How would you implement a basic logging setup that logs to a file with rotation after 1MB?\n",
        "import logging\n",
        "from logging.handlers import RotatingFileHandler\n",
        "\n",
        "# Set up logger\n",
        "logger = logging.getLogger(\"my_logger\")\n",
        "logger.setLevel(logging.INFO)\n",
        "\n",
        "# Create a rotating file handler\n",
        "handler = RotatingFileHandler(\n",
        "    \"app.log\",           # Log file name\n",
        "    maxBytes=1 * 1024 * 1024,  # 1MB (1 * 1024 * 1024 bytes)\n",
        "    backupCount=3        # Keep up to 3 old log files as backup\n",
        ")\n",
        "\n",
        "# Optional: set formatter\n",
        "formatter = logging.Formatter('%(asctime)s - %(levelname)s - %(message)s')\n",
        "handler.setFormatter(formatter)\n",
        "\n",
        "# Add handler to logger\n",
        "logger.addHandler(handler)\n",
        "\n",
        "# Example log messages\n",
        "for i in range(10000):\n",
        "    logger.info(f\"This is log message #{i}\")"
      ],
      "metadata": {
        "id": "du6vlbz2GKvU"
      },
      "execution_count": null,
      "outputs": []
    },
    {
      "cell_type": "code",
      "source": [
        "# 19. Write a program that handles both IndexError and KeyError using a try-except block.\n",
        "def handle_errors():\n",
        "    my_list = [10, 20, 30]\n",
        "    my_dict = {\"a\": 1, \"b\": 2}\n",
        "\n",
        "    try:\n",
        "        # Attempt to access an invalid index in the list\n",
        "        print(\"List value:\", my_list[5])  # IndexError\n",
        "\n",
        "        # Attempt to access a non-existent key in the dictionary\n",
        "        print(\"Dictionary value:\", my_dict[\"z\"])  # KeyError\n",
        "\n",
        "    except IndexError:\n",
        "        print(\"Caught an IndexError: List index is out of range.\")\n",
        "\n",
        "    except KeyError:\n",
        "        print(\"Caught a KeyError: The specified key was not found in the dictionary.\")\n",
        "\n",
        "    except Exception as e:\n",
        "        print(f\"An unexpected error occurred: {e}\")\n",
        "\n",
        "# Run the function\n",
        "handle_errors()"
      ],
      "metadata": {
        "id": "KeJfvPNGGlnU"
      },
      "execution_count": null,
      "outputs": []
    },
    {
      "cell_type": "code",
      "source": [
        "# 20. How would you open a file and read its contents using a context manager in Python?\n",
        "file_path = \"example.txt\"\n",
        "\n",
        "try:\n",
        "    with open(file_path, 'r') as file:\n",
        "        contents = file.read()\n",
        "        print(\"File contents:\\n\")\n",
        "        print(contents)\n",
        "except FileNotFoundError:\n",
        "    print(f\"Error: The file '{file_path}' was not found.\")\n",
        "except Exception as e:\n",
        "    print(f\"An error occurred: {e}\")"
      ],
      "metadata": {
        "id": "qwAsCAFOHDns"
      },
      "execution_count": null,
      "outputs": []
    },
    {
      "cell_type": "code",
      "source": [
        "# 21. Write a Python program that reads a file and prints the number of occurrences of a specific word.\n",
        "def count_word_occurrences(file_path, target_word):\n",
        "    try:\n",
        "        with open(file_path, 'r') as file:\n",
        "            content = file.read()\n",
        "            content = content.lower()\n",
        "            target_word = target_word.lower()\n",
        "\n",
        "            words = content.split()\n",
        "            count = words.count(target_word)\n",
        "\n",
        "            print(f\"The word '{target_word}' appears {count} time(s) in the file.\")\n",
        "    except FileNotFoundError:\n",
        "        print(f\"Error: File '{file_path}' not found.\")\n",
        "    except Exception as e:\n",
        "        print(f\"An error occurred: {e}\")\n",
        "\n",
        "# Example usage\n",
        "file_path = \"example.txt\"\n",
        "target_word = \"python\"\n",
        "count_word_occurrences(file_path, target_word)"
      ],
      "metadata": {
        "colab": {
          "base_uri": "https://localhost:8080/"
        },
        "id": "LvXoNmLLHaUs",
        "outputId": "bf608169-4d70-43f7-8a80-01b3ddfd1a4b"
      },
      "execution_count": 4,
      "outputs": [
        {
          "output_type": "stream",
          "name": "stdout",
          "text": [
            "Error: File 'example.txt' not found.\n"
          ]
        }
      ]
    },
    {
      "cell_type": "code",
      "source": [
        "# 22. How can you check if a file is empty before attempting to read its contents?\n",
        "import os\n",
        "\n",
        "file_path = \"example.txt\"\n",
        "\n",
        "if os.path.exists(file_path):\n",
        "    if os.path.getsize(file_path) == 0:\n",
        "        print(\"The file is empty.\")\n",
        "    else:\n",
        "        with open(file_path, 'r') as file:\n",
        "            contents = file.read()\n",
        "            print(\"File contents:\\n\", contents)\n",
        "else:\n",
        "    print(\"The file does not exist.\")"
      ],
      "metadata": {
        "id": "O4RoFLA2H57F"
      },
      "execution_count": null,
      "outputs": []
    },
    {
      "cell_type": "code",
      "source": [
        "# 23. Write a Python program that writes to a log file when an error occurs during file handling.\n",
        "import logging\n",
        "\n",
        "# Set up basic logging to a file\n",
        "logging.basicConfig(\n",
        "    filename='file_errors.log',\n",
        "    level=logging.ERROR,\n",
        "    format='%(asctime)s - %(levelname)s - %(message)s'\n",
        ")\n",
        "\n",
        "def read_file(file_path):\n",
        "    try:\n",
        "        with open(file_path, 'r') as file:\n",
        "            contents = file.read()\n",
        "            print(\"File contents:\\n\", contents)\n",
        "    except FileNotFoundError as e:\n",
        "        print(\"Error: File not found.\")\n",
        "        logging.error(f\"FileNotFoundError: {e}\")\n",
        "    except PermissionError as e:\n",
        "        print(\"Error: Permission denied.\")\n",
        "        logging.error(f\"PermissionError: {e}\")\n",
        "    except Exception as e:\n",
        "        print(f\"An unexpected error occurred: {e}\")\n",
        "        logging.error(f\"Unexpected error: {e}\")\n",
        "\n",
        "# Example usage\n",
        "read_file(\"example.txt\")"
      ],
      "metadata": {
        "id": "7J6S8okXIFy8"
      },
      "execution_count": null,
      "outputs": []
    },
    {
      "cell_type": "markdown",
      "source": [],
      "metadata": {
        "id": "C7PHvPvdI0SX"
      }
    }
  ]
}